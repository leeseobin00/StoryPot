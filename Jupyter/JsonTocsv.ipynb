{
 "cells": [
  {
   "cell_type": "code",
   "execution_count": 25,
   "metadata": {},
   "outputs": [],
   "source": [
    "import os\n",
    "import json\n",
    "import pandas as pd"
   ]
  },
  {
   "cell_type": "code",
   "execution_count": 26,
   "metadata": {},
   "outputs": [],
   "source": [
    "# 폴더 내 모든 파일 이름 가져오기\n",
    "# history 내용\n",
    "folder_path = '/Users/lyusang-yeon/Desktop/전공/졸작 자료/paper/paper'\n",
    "file_names = os.listdir(folder_path)\n",
    "\n",
    "\n",
    "\n",
    "# JSON 파일만 선택하기\n",
    "json_files = [f for f in file_names if f.endswith('.json')]\n",
    "\n",
    "passage = []\n",
    "summary = []\n",
    "style = []\n",
    "\n",
    "for json_file in json_files:\n",
    "    # JSON 파일 읽어오기\n",
    "    test = [] \n",
    "    with open(os.path.join(folder_path, json_file), 'r') as f:\n",
    "        data = json.load(f)\n",
    "        passage.append(data['Meta(Refine)']['passage'])\n",
    "        summary.append(data['Annotation']['summary1'])\n",
    "        style.append('black')\n",
    "        #print(data['Meta(Refine)']['passage'])\n"
   ]
  },
  {
   "cell_type": "code",
   "execution_count": 30,
   "metadata": {},
   "outputs": [],
   "source": [
    "df = pd.DataFrame(columns=['Passage', 'Summary', 'Style'])\n",
    "df['Passage'] = passage\n",
    "df['Summary'] = summary\n",
    "df['Style'] = 'Caricature'\n",
    "\n",
    "df.to_csv('paper.csv',index=False)"
   ]
  },
  {
   "cell_type": "code",
   "execution_count": 28,
   "metadata": {},
   "outputs": [],
   "source": [
    "#"
   ]
  }
 ],
 "metadata": {
  "kernelspec": {
   "display_name": "yu",
   "language": "python",
   "name": "python3"
  },
  "language_info": {
   "codemirror_mode": {
    "name": "ipython",
    "version": 3
   },
   "file_extension": ".py",
   "mimetype": "text/x-python",
   "name": "python",
   "nbconvert_exporter": "python",
   "pygments_lexer": "ipython3",
   "version": "3.9.0"
  },
  "orig_nbformat": 4
 },
 "nbformat": 4,
 "nbformat_minor": 2
}
