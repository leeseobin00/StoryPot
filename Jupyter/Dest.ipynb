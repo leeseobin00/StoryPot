{
 "cells": [
  {
   "cell_type": "code",
   "execution_count": 21,
   "metadata": {},
   "outputs": [],
   "source": [
    "import os\n",
    "import shutil\n",
    "\n",
    "source_dir = '/Users/lyusang-yeon/Desktop/전공/졸작 자료/01.데이터/1.Training/라벨링데이터/TL1/06.edit/2~3sent'\n",
    "dest_dir = '/Users/lyusang-yeon/Desktop/전공/졸작 자료/data/Train/edit_Sketch'\n",
    "\n",
    "count = 0\n",
    "for filename in os.listdir(source_dir):\n",
    "    #갯수 옮기기\n",
    "    if count == 5500: \n",
    "        break\n",
    "    # 파일 이름이나 다른 속성으로 선택\n",
    "    file_path = os.path.join(source_dir, filename)\n",
    "    shutil.move(file_path, dest_dir)\n",
    "    count += 1"
   ]
  },
  {
   "cell_type": "markdown",
   "metadata": {},
   "source": []
  }
 ],
 "metadata": {
  "kernelspec": {
   "display_name": "yu",
   "language": "python",
   "name": "python3"
  },
  "language_info": {
   "codemirror_mode": {
    "name": "ipython",
    "version": 3
   },
   "file_extension": ".py",
   "mimetype": "text/x-python",
   "name": "python",
   "nbconvert_exporter": "python",
   "pygments_lexer": "ipython3",
   "version": "3.9.0"
  },
  "orig_nbformat": 4
 },
 "nbformat": 4,
 "nbformat_minor": 2
}
